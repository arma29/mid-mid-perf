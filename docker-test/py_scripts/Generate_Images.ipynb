{
 "cells": [
  {
   "cell_type": "code",
   "execution_count": 1,
   "metadata": {},
   "outputs": [],
   "source": [
    "import pandas as pd\n",
    "import matplotlib.pyplot as plt\n",
    "import numpy as np"
   ]
  },
  {
   "cell_type": "code",
   "execution_count": 2,
   "metadata": {},
   "outputs": [],
   "source": [
    "grpc_data = pd.read_csv(\"~/Output/grpc_client/log_client.csv\")\n",
    "rabbit_data = pd.read_csv(\"~/Output/rabbit_client/log_client.csv\")\n",
    "\n",
    "grpc_data = grpc_data[grpc_data.Time != 'Time']['Time'].astype(float) #dropping non numbers\n",
    "rabbit_data = rabbit_data[rabbit_data.Time != 'Time']['Time'].astype(float) #dropping non numbers\n",
    "\n",
    "grpc_data_wo = pd.read_csv(\"~/Output/grpc_client/log_client.csv\")\n",
    "rabbit_data_wo = pd.read_csv(\"~/Output/rabbit_client/log_client.csv\")\n",
    "\n",
    "grpc_data_wo = grpc_data_wo[grpc_data_wo.Time != 'Time']['Time'].astype(float) #dropping non numbers\n",
    "rabbit_data_wo = rabbit_data_wo[rabbit_data_wo.Time != 'Time']['Time'].astype(float) #dropping non numbers\n"
   ]
  },
  {
   "cell_type": "code",
   "execution_count": 3,
   "metadata": {},
   "outputs": [],
   "source": [
    "def warmupCut(pd,tests):\n",
    "    for i in range (0,tests):\n",
    "        pd = pd.drop(pd.index[0+i*10000:3000+i*10000])\n",
    "        pd = pd.drop(pd.index[10001+i*10000:11001+i*10000])\n",
    "    return pd\n",
    "\n",
    "def outliersCut(pd,limit):\n",
    "    for i in range (0, limit):\n",
    "        pd = pd.drop(pd.idxmax())\n",
    "        pd = pd.drop(pd.idxmin())\n",
    "    return pd"
   ]
  },
  {
   "cell_type": "code",
   "execution_count": 4,
   "metadata": {
    "scrolled": true
   },
   "outputs": [],
   "source": [
    "grpc_data = warmupCut(grpc_data, 31)\n",
    "# grpc_data = outliersCut(grpc_data,10)\n",
    "\n",
    "rabbit_data = warmupCut(rabbit_data, 31)\n",
    "# rabbit_data = outliersCut(rabbit_data, 10)\n",
    "\n",
    "# grpc_data_wo = outliersCut(grpc_data_wo, 50)\n",
    "# rabbit_data_wo = outliersCut(rabbit_data_wo,50)"
   ]
  },
  {
   "cell_type": "code",
   "execution_count": 5,
   "metadata": {},
   "outputs": [
    {
     "data": {
      "text/plain": [
       "count    300000.000000\n",
       "mean          0.390587\n",
       "std           0.069293\n",
       "min           0.101146\n",
       "25%           0.345123\n",
       "50%           0.386844\n",
       "75%           0.430223\n",
       "max           3.822454\n",
       "Name: Time, dtype: float64"
      ]
     },
     "execution_count": 5,
     "metadata": {},
     "output_type": "execute_result"
    }
   ],
   "source": [
    "grpc_data.describe()"
   ]
  },
  {
   "cell_type": "code",
   "execution_count": 6,
   "metadata": {},
   "outputs": [
    {
     "data": {
      "text/plain": [
       "count    300000.000000\n",
       "mean          0.331903\n",
       "std           0.049937\n",
       "min           0.265285\n",
       "25%           0.309636\n",
       "50%           0.321871\n",
       "75%           0.341029\n",
       "max           6.531806\n",
       "Name: Time, dtype: float64"
      ]
     },
     "execution_count": 6,
     "metadata": {},
     "output_type": "execute_result"
    }
   ],
   "source": [
    "rabbit_data.describe()"
   ]
  },
  {
   "cell_type": "code",
   "execution_count": 7,
   "metadata": {},
   "outputs": [],
   "source": [
    "means = []\n",
    "stds = []\n",
    "means.append(grpc_data.mean())\n",
    "means.append(rabbit_data.mean())\n",
    "\n",
    "stds.append(grpc_data.std())\n",
    "stds.append(rabbit_data.std())\n",
    "\n",
    "index = np.arange(len(means))"
   ]
  },
  {
   "cell_type": "code",
   "execution_count": 8,
   "metadata": {},
   "outputs": [
    {
     "data": {
      "image/png": "[encoded data removed]",
      "text/plain": [
       "<Figure size 432x288 with 1 Axes>"
      ]
     },
     "metadata": {
      "needs_background": "light"
     },
     "output_type": "display_data"
    }
   ],
   "source": [
    "objects = [\"gRPC\", \"RabbitMQ\"]\n",
    "plt.bar(index, means, yerr=stds)\n",
    "plt.xticks(index, objects)\n",
    "\n",
    "for a,b in zip(index, means):\n",
    "    plt.text(a+0.02, b+0.02, str(b)[0:6], fontsize=14)\n",
    "plt.ylabel(\"Tempo(ms)\", fontsize=14)\n",
    "plt.title(\"Tempo médio de resposta - 10000 Invocações\", fontsize=14)\n",
    "plt.savefig('fig1.png')\n",
    "plt.show()"
   ]
  },
  {
   "cell_type": "code",
   "execution_count": 9,
   "metadata": {},
   "outputs": [],
   "source": [
    "udp_data = pd.read_csv(\"~/Output/udp_client1/log_client1.csv\")\n",
    "tcp_data = pd.read_csv(\"~/Output/tcp_client1/log_client1.csv\")\n",
    "\n",
    "udp_data = udp_data[udp_data.Time != 'Time']['Time'].astype(float) #dropping non numbers\n",
    "tcp_data = tcp_data[tcp_data.Time != 'Time']['Time'].astype(float) #dropping non numbers\n",
    "\n",
    "# udp_data = outliersCut(udp_data,10)\n",
    "# tcp_data = outliersCut(tcp_data,10)"
   ]
  },
  {
   "cell_type": "code",
   "execution_count": 10,
   "metadata": {},
   "outputs": [
    {
     "data": {
      "text/plain": [
       "count    300000.000000\n",
       "mean          0.059925\n",
       "std           0.024280\n",
       "min           0.036838\n",
       "25%           0.042607\n",
       "50%           0.048005\n",
       "75%           0.073606\n",
       "max           1.306998\n",
       "Name: Time, dtype: float64"
      ]
     },
     "execution_count": 10,
     "metadata": {},
     "output_type": "execute_result"
    }
   ],
   "source": [
    "udp_data.describe()"
   ]
  },
  {
   "cell_type": "code",
   "execution_count": 11,
   "metadata": {},
   "outputs": [
    {
     "data": {
      "text/plain": [
       "count    300000.000000\n",
       "mean          0.061509\n",
       "std           0.019584\n",
       "min           0.043657\n",
       "25%           0.050292\n",
       "50%           0.053186\n",
       "75%           0.061616\n",
       "max           0.450883\n",
       "Name: Time, dtype: float64"
      ]
     },
     "execution_count": 11,
     "metadata": {},
     "output_type": "execute_result"
    }
   ],
   "source": [
    "tcp_data.describe()"
   ]
  },
  {
   "cell_type": "code",
   "execution_count": 12,
   "metadata": {},
   "outputs": [],
   "source": [
    "objects = [\"UDP\", \"TCP\", \"gRPC\", \"RabbitMQ\"]\n",
    "means = []\n",
    "stds = []\n",
    "means.append(udp_data.mean())\n",
    "means.append(tcp_data.mean())\n",
    "means.append(grpc_data.mean())\n",
    "means.append(rabbit_data.mean())\n",
    "\n",
    "stds.append(udp_data.std())\n",
    "stds.append(tcp_data.std())\n",
    "stds.append(grpc_data.std())\n",
    "stds.append(rabbit_data.std())\n",
    "\n",
    "index = np.arange(len(means))\n"
   ]
  },
  {
   "cell_type": "code",
   "execution_count": 13,
   "metadata": {},
   "outputs": [
    {
     "data": {
      "image/png": "[encoded data removed]",
      "text/plain": [
       "<Figure size 432x288 with 1 Axes>"
      ]
     },
     "metadata": {
      "needs_background": "light"
     },
     "output_type": "display_data"
    }
   ],
   "source": [
    "plt.bar(index, means, yerr=stds)\n",
    "plt.xticks(index, objects)\n",
    "\n",
    "for a,b in zip(index, means):\n",
    "    plt.text(a+0.02, b+0.02, str(b)[0:6], fontsize=12, rotation=30)\n",
    "plt.ylabel(\"Tempo(ms)\", fontsize=14)\n",
    "plt.title(\"Tempo médio de resposta - 10000 Invocações\", fontsize=14)\n",
    "plt.savefig('fig2.png')\n",
    "plt.show()"
   ]
  },
  {
   "cell_type": "code",
   "execution_count": 14,
   "metadata": {},
   "outputs": [
    {
     "data": {
      "image/png": "[encoded data removed]",
      "text/plain": [
       "<Figure size 432x288 with 1 Axes>"
      ]
     },
     "metadata": {
      "needs_background": "light"
     },
     "output_type": "display_data"
    }
   ],
   "source": [
    "objects = [\"gRPC\", \"RabbitMQ\"]\n",
    "means = []\n",
    "stds = []\n",
    "\n",
    "means.append(grpc_data.mean())\n",
    "means.append(rabbit_data.mean())\n",
    "\n",
    "stds.append(grpc_data.std())\n",
    "stds.append(rabbit_data.std())\n",
    "\n",
    "means_wo = []\n",
    "stds_wo = []\n",
    "\n",
    "means_wo.append(grpc_data_wo.mean())\n",
    "means_wo.append(rabbit_data_wo.mean())\n",
    "\n",
    "stds_wo.append(grpc_data_wo.std())\n",
    "stds_wo.append(rabbit_data_wo.std())\n",
    "\n",
    "index = np.arange(len(means))\n",
    "width = 0.35\n",
    "\n",
    "fig, ax = plt.subplots()\n",
    "rects1 = ax.bar(index - width/2, means, width, label='Warmup', yerr=stds)\n",
    "rects2 = ax.bar(index + width/2, means_wo, width, label='Sem Warmup', yerr=stds_wo)\n",
    "\n",
    "plt.xticks(index, objects)\n",
    "\n",
    "plt.ylabel(\"Tempo(ms)\", fontsize=14)\n",
    "plt.title(\"Tempo médio de resposta - 10000 Invocações\", fontsize=14)\n",
    "plt.legend()\n",
    "plt.savefig('fig3.png')\n",
    "fig.tight_layout()\n",
    "plt.show()\n"
   ]
  },
  {
   "cell_type": "code",
   "execution_count": 15,
   "metadata": {},
   "outputs": [
    {
     "data": {
      "image/png": "[encoded data removed]",
      "text/plain": [
       "<Figure size 432x288 with 1 Axes>"
      ]
     },
     "metadata": {
      "needs_background": "light"
     },
     "output_type": "display_data"
    }
   ],
   "source": [
    "fig, ax = plt.subplots()\n",
    "rects1 = ax.bar(index - width/2, means, width, label='Warmup')\n",
    "rects2 = ax.bar(index + width/2, means_wo, width, label='Sem Warmup')\n",
    "\n",
    "plt.xticks(index, objects)\n",
    "\n",
    "plt.ylabel(\"Tempo(ms)\", fontsize=14)\n",
    "plt.title(\"Tempo médio de resposta - 10000 Invocações\", fontsize=14)\n",
    "# plt.legend()\n",
    "plt.savefig('fig4.png')\n",
    "fig.tight_layout()\n",
    "plt.show()"
   ]
  },
  {
   "cell_type": "code",
   "execution_count": null,
   "metadata": {},
   "outputs": [],
   "source": []
  }
 ],
 "metadata": {
  "kernelspec": {
   "display_name": "Python 3",
   "language": "python",
   "name": "python3"
  },
  "language_info": {
   "codemirror_mode": {
    "name": "ipython",
    "version": 3
   },
   "file_extension": ".py",
   "mimetype": "text/x-python",
   "name": "python",
   "nbconvert_exporter": "python",
   "pygments_lexer": "ipython3",
   "version": "3.7.4"
  }
 },
 "nbformat": 4,
 "nbformat_minor": 2
}
